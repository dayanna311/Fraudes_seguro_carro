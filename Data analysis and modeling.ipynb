{
 "cells": [
  {
   "cell_type": "markdown",
   "id": "911d41e7",
   "metadata": {},
   "source": [
    "## Carga de la base de datos"
   ]
  },
  {
   "cell_type": "code",
   "execution_count": 1,
   "id": "da08d0e9",
   "metadata": {
    "scrolled": false
   },
   "outputs": [
    {
     "name": "stdout",
     "output_type": "stream",
     "text": [
      "Requirement already satisfied: psycopg2 in c:\\users\\dayan\\anaconda3\\lib\\site-packages (2.9.6)\n",
      "Note: you may need to restart the kernel to use updated packages.\n"
     ]
    }
   ],
   "source": [
    "pip install psycopg2"
   ]
  },
  {
   "cell_type": "code",
   "execution_count": 2,
   "id": "bb5c6e51",
   "metadata": {},
   "outputs": [
    {
     "name": "stdout",
     "output_type": "stream",
     "text": [
      "conexión exitosa\n"
     ]
    }
   ],
   "source": [
    "import psycopg2\n",
    "\n",
    "conn = psycopg2.connect(\n",
    "    host=\"localhost\",\n",
    "    database=\"Fraud\",\n",
    "    user=\"postgres\",\n",
    "    password=\"Hola12345\")\n",
    "\n",
    "print ('conexión exitosa')\n",
    "cursor= conn.cursor()\n",
    "cursor.execute('SELECT version()')"
   ]
  },
  {
   "cell_type": "code",
   "execution_count": 3,
   "id": "e9184f8e",
   "metadata": {
    "scrolled": true
   },
   "outputs": [
    {
     "name": "stderr",
     "output_type": "stream",
     "text": [
      "C:\\Users\\dayan\\anaconda3\\lib\\site-packages\\pandas\\io\\sql.py:761: UserWarning: pandas only support SQLAlchemy connectable(engine/connection) ordatabase string URI or sqlite3 DBAPI2 connectionother DBAPI2 objects are not tested, please consider using SQLAlchemy\n",
      "  warnings.warn(\n"
     ]
    }
   ],
   "source": [
    "import pandas as pd\n",
    "sql= f\"\"\"\n",
    "  SELECT *\n",
    "  FROM fraudes;\n",
    "\"\"\"\n",
    "        \n",
    "# execute the query and read to a dataframe in Python\n",
    "fraudes= pd.read_sql(sql, conn)"
   ]
  },
  {
   "cell_type": "markdown",
   "id": "59cc93d0",
   "metadata": {},
   "source": [
    "## Análisis descriptivo\n",
    "\n",
    "Se trata de una base de datos de 15420 registros y 33 variables. En los que se presenta la información de reclamaciones de siniestro. La base nos muestran los registros de accidentes para 3 años (1994, 1995, 1996), la mayoría de siniestros ocurren el día lunes y en el mes de Enero.  923 reclamaciones fueron fraudulentas, de la cual se concluye lo siguiente: \n",
    "- Se evidencia que el número de casos fraudulentos ha disminuido año a año, cayendo en un 33,5% con respecto al año inicial\n",
    "- Al realizar una prueba fisher se concluye que es estadísticamente el sexo tiene un efecto en el cometer un fraude.\n",
    "- En cuanto a los grupos de edad no hay una relevancia estadística con el comerter fraude, sin embargo de forma absoluta, el mayor número de registros lo tienen las personas entre los 28 y 48 años, con 568 casos.\n",
    "- Existe una correlación entre adquierir un seguro por 500 y cometer fraude\n",
    "- Existe correlación entre tener un seguro todo riesgo y cometer fraude\n",
    "- Existe correlación cuando el valor del vehiculo  está por debajo de 200 o mayor a 6900 y cometer fraude\n",
    "- Existe correlación si entre la adiquisión del vehiculo y el accidente no hayan pasado ningún día y cometer fraude\n",
    "\n",
    "#####  Adicional : existe correlación entre tener un vehiculo por debajo de 2000 o por encima de 6900, adquirir un seguro todo riesgo y estar en un rango de edad por encima de 48. Esta información nos sirve como un perfilamiento de las personas que tienen mayor probabiidad de comprar un seguro y hacer una reclamación fraudulenta. que se pueden en traducir en diferentes acciones: subir el precio de la pólizas para aquellas personas que tienen un vehículo por encima de 20000 o por encima de 69000, personas por encima de 48 años, entre otros. \n",
    "\n"
   ]
  },
  {
   "cell_type": "code",
   "execution_count": 4,
   "id": "44591e82",
   "metadata": {},
   "outputs": [
    {
     "data": {
      "text/plain": [
       "array([1994, 1995, 1996], dtype=int64)"
      ]
     },
     "execution_count": 4,
     "metadata": {},
     "output_type": "execute_result"
    }
   ],
   "source": [
    "## Año en el que ocurrió el siniestro\n",
    "fraudes.yearr.unique()"
   ]
  },
  {
   "cell_type": "code",
   "execution_count": 5,
   "id": "9534831f",
   "metadata": {},
   "outputs": [
    {
     "data": {
      "text/plain": [
       "(15420, 33)"
      ]
     },
     "execution_count": 5,
     "metadata": {},
     "output_type": "execute_result"
    }
   ],
   "source": [
    "## Número de registros\n",
    "fraudes.shape"
   ]
  },
  {
   "cell_type": "code",
   "execution_count": 6,
   "id": "6a5bddcd",
   "metadata": {
    "scrolled": true
   },
   "outputs": [
    {
     "data": {
      "text/plain": [
       "1994    6142\n",
       "1995    5195\n",
       "1996    4083\n",
       "Name: yearr, dtype: int64"
      ]
     },
     "execution_count": 6,
     "metadata": {},
     "output_type": "execute_result"
    }
   ],
   "source": [
    "## Número de registros que por mes\n",
    "fraudes.yearr.value_counts()"
   ]
  },
  {
   "cell_type": "code",
   "execution_count": 7,
   "id": "e28f4881",
   "metadata": {},
   "outputs": [
    {
     "data": {
      "text/plain": [
       "1994         NaN\n",
       "1995         NaN\n",
       "1996   -0.335233\n",
       "Name: yearr, dtype: float64"
      ]
     },
     "execution_count": 7,
     "metadata": {},
     "output_type": "execute_result"
    }
   ],
   "source": [
    "## cambio porcentual entre el primer año y el último año\n",
    "year= fraudes.yearr.value_counts()\n",
    "year.pct_change(periods= 2)"
   ]
  },
  {
   "cell_type": "code",
   "execution_count": 8,
   "id": "5d28ec09",
   "metadata": {
    "scrolled": false
   },
   "outputs": [
    {
     "data": {
      "text/plain": [
       "Monday       2616\n",
       "Friday       2445\n",
       "Tuesday      2300\n",
       "Thursday     2173\n",
       "Wednesday    2159\n",
       "Saturday     1982\n",
       "Sunday       1745\n",
       "Name: dayofweek, dtype: int64"
      ]
     },
     "execution_count": 8,
     "metadata": {},
     "output_type": "execute_result"
    }
   ],
   "source": [
    "## Número de registros que por mes\n",
    "fraudes.dayofweek.value_counts()"
   ]
  },
  {
   "cell_type": "code",
   "execution_count": 9,
   "id": "515927b9",
   "metadata": {},
   "outputs": [
    {
     "data": {
      "text/html": [
       "<div>\n",
       "<style scoped>\n",
       "    .dataframe tbody tr th:only-of-type {\n",
       "        vertical-align: middle;\n",
       "    }\n",
       "\n",
       "    .dataframe tbody tr th {\n",
       "        vertical-align: top;\n",
       "    }\n",
       "\n",
       "    .dataframe thead th {\n",
       "        text-align: right;\n",
       "    }\n",
       "</style>\n",
       "<table border=\"1\" class=\"dataframe\">\n",
       "  <thead>\n",
       "    <tr style=\"text-align: right;\">\n",
       "      <th>monthh</th>\n",
       "      <th>Apr</th>\n",
       "      <th>Aug</th>\n",
       "      <th>Dec</th>\n",
       "      <th>Feb</th>\n",
       "      <th>Jan</th>\n",
       "      <th>Jul</th>\n",
       "      <th>Jun</th>\n",
       "      <th>Mar</th>\n",
       "      <th>May</th>\n",
       "      <th>Nov</th>\n",
       "      <th>Oct</th>\n",
       "      <th>Sep</th>\n",
       "    </tr>\n",
       "    <tr>\n",
       "      <th>fraudfound_p</th>\n",
       "      <th></th>\n",
       "      <th></th>\n",
       "      <th></th>\n",
       "      <th></th>\n",
       "      <th></th>\n",
       "      <th></th>\n",
       "      <th></th>\n",
       "      <th></th>\n",
       "      <th></th>\n",
       "      <th></th>\n",
       "      <th></th>\n",
       "      <th></th>\n",
       "    </tr>\n",
       "  </thead>\n",
       "  <tbody>\n",
       "    <tr>\n",
       "      <th>0</th>\n",
       "      <td>1200</td>\n",
       "      <td>1043</td>\n",
       "      <td>1223</td>\n",
       "      <td>1184</td>\n",
       "      <td>1324</td>\n",
       "      <td>1197</td>\n",
       "      <td>1241</td>\n",
       "      <td>1258</td>\n",
       "      <td>1273</td>\n",
       "      <td>1155</td>\n",
       "      <td>1235</td>\n",
       "      <td>1164</td>\n",
       "    </tr>\n",
       "    <tr>\n",
       "      <th>1</th>\n",
       "      <td>80</td>\n",
       "      <td>84</td>\n",
       "      <td>62</td>\n",
       "      <td>82</td>\n",
       "      <td>87</td>\n",
       "      <td>60</td>\n",
       "      <td>80</td>\n",
       "      <td>102</td>\n",
       "      <td>94</td>\n",
       "      <td>46</td>\n",
       "      <td>70</td>\n",
       "      <td>76</td>\n",
       "    </tr>\n",
       "  </tbody>\n",
       "</table>\n",
       "</div>"
      ],
      "text/plain": [
       "monthh         Apr   Aug   Dec   Feb   Jan   Jul   Jun   Mar   May   Nov  \\\n",
       "fraudfound_p                                                               \n",
       "0             1200  1043  1223  1184  1324  1197  1241  1258  1273  1155   \n",
       "1               80    84    62    82    87    60    80   102    94    46   \n",
       "\n",
       "monthh         Oct   Sep  \n",
       "fraudfound_p              \n",
       "0             1235  1164  \n",
       "1               70    76  "
      ]
     },
     "execution_count": 9,
     "metadata": {},
     "output_type": "execute_result"
    }
   ],
   "source": [
    "pd.crosstab(fraudes.fraudfound_p,fraudes.monthh )"
   ]
  },
  {
   "cell_type": "code",
   "execution_count": 10,
   "id": "311964a9",
   "metadata": {
    "scrolled": true
   },
   "outputs": [
    {
     "data": {
      "text/plain": [
       "0    14497\n",
       "1      923\n",
       "Name: fraudfound_p, dtype: int64"
      ]
     },
     "execution_count": 10,
     "metadata": {},
     "output_type": "execute_result"
    }
   ],
   "source": [
    "## Número de registros que fueron fraudulentos\n",
    "fraudes.fraudfound_p.value_counts()"
   ]
  },
  {
   "cell_type": "code",
   "execution_count": 11,
   "id": "f04f34d3",
   "metadata": {},
   "outputs": [
    {
     "data": {
      "text/html": [
       "<div>\n",
       "<style scoped>\n",
       "    .dataframe tbody tr th:only-of-type {\n",
       "        vertical-align: middle;\n",
       "    }\n",
       "\n",
       "    .dataframe tbody tr th {\n",
       "        vertical-align: top;\n",
       "    }\n",
       "\n",
       "    .dataframe thead th {\n",
       "        text-align: right;\n",
       "    }\n",
       "</style>\n",
       "<table border=\"1\" class=\"dataframe\">\n",
       "  <thead>\n",
       "    <tr style=\"text-align: right;\">\n",
       "      <th>sex</th>\n",
       "      <th>Female</th>\n",
       "      <th>Male</th>\n",
       "    </tr>\n",
       "    <tr>\n",
       "      <th>fraudfound_p</th>\n",
       "      <th></th>\n",
       "      <th></th>\n",
       "    </tr>\n",
       "  </thead>\n",
       "  <tbody>\n",
       "    <tr>\n",
       "      <th>0</th>\n",
       "      <td>2315</td>\n",
       "      <td>12182</td>\n",
       "    </tr>\n",
       "    <tr>\n",
       "      <th>1</th>\n",
       "      <td>105</td>\n",
       "      <td>818</td>\n",
       "    </tr>\n",
       "  </tbody>\n",
       "</table>\n",
       "</div>"
      ],
      "text/plain": [
       "sex           Female   Male\n",
       "fraudfound_p               \n",
       "0               2315  12182\n",
       "1                105    818"
      ]
     },
     "execution_count": 11,
     "metadata": {},
     "output_type": "execute_result"
    }
   ],
   "source": [
    "## resgistros fraudulentos por sexo\n",
    "pd.crosstab(fraudes.fraudfound_p,fraudes.sex )"
   ]
  },
  {
   "cell_type": "code",
   "execution_count": 12,
   "id": "9e3e1c4f",
   "metadata": {
    "scrolled": true
   },
   "outputs": [
    {
     "name": "stdout",
     "output_type": "stream",
     "text": [
      "odd ratio is : 1.4804590691965507\n",
      "p_value is : 0.00012734121515415976\n"
     ]
    }
   ],
   "source": [
    "## se realiza una prueba fisher para revisar si existe una relación estadística entre sexo y fruade\n",
    "## el p_value es menor a 0.05 por lo tanto hay suficiente información para rechazar la hipotesis nula y afirmar que existe una relación entre fraude y sexo. \n",
    "from scipy.stats import fisher_exact\n",
    "import scipy.stats as stats\n",
    "odd_ratio, p_value = stats.fisher_exact([[2315, 12182], [105, 818]], alternative='two-sided')\n",
    "print('odd ratio is : ' + str(odd_ratio))\n",
    "print('p_value is : ' + str(p_value))"
   ]
  },
  {
   "cell_type": "code",
   "execution_count": 13,
   "id": "6852589d",
   "metadata": {
    "scrolled": false
   },
   "outputs": [
    {
     "data": {
      "text/html": [
       "<div>\n",
       "<style scoped>\n",
       "    .dataframe tbody tr th:only-of-type {\n",
       "        vertical-align: middle;\n",
       "    }\n",
       "\n",
       "    .dataframe tbody tr th {\n",
       "        vertical-align: top;\n",
       "    }\n",
       "\n",
       "    .dataframe thead th {\n",
       "        text-align: right;\n",
       "    }\n",
       "</style>\n",
       "<table border=\"1\" class=\"dataframe\">\n",
       "  <thead>\n",
       "    <tr style=\"text-align: right;\">\n",
       "      <th>maritalstatus</th>\n",
       "      <th>Divorced</th>\n",
       "      <th>Married</th>\n",
       "      <th>Single</th>\n",
       "      <th>Widow</th>\n",
       "    </tr>\n",
       "    <tr>\n",
       "      <th>fraudfound_p</th>\n",
       "      <th></th>\n",
       "      <th></th>\n",
       "      <th></th>\n",
       "      <th></th>\n",
       "    </tr>\n",
       "  </thead>\n",
       "  <tbody>\n",
       "    <tr>\n",
       "      <th>0</th>\n",
       "      <td>73</td>\n",
       "      <td>9986</td>\n",
       "      <td>4406</td>\n",
       "      <td>32</td>\n",
       "    </tr>\n",
       "    <tr>\n",
       "      <th>1</th>\n",
       "      <td>3</td>\n",
       "      <td>639</td>\n",
       "      <td>278</td>\n",
       "      <td>3</td>\n",
       "    </tr>\n",
       "  </tbody>\n",
       "</table>\n",
       "</div>"
      ],
      "text/plain": [
       "maritalstatus  Divorced  Married  Single  Widow\n",
       "fraudfound_p                                   \n",
       "0                    73     9986    4406     32\n",
       "1                     3      639     278      3"
      ]
     },
     "execution_count": 13,
     "metadata": {},
     "output_type": "execute_result"
    }
   ],
   "source": [
    "## resgistros fraudulentos por estatus marital\n",
    "pd.crosstab(fraudes.fraudfound_p,fraudes.maritalstatus )"
   ]
  },
  {
   "cell_type": "code",
   "execution_count": 14,
   "id": "4a65c92d",
   "metadata": {},
   "outputs": [
    {
     "data": {
      "text/plain": [
       "Sedan      9671\n",
       "Sport      5358\n",
       "Utility     391\n",
       "Name: vehiclecategory, dtype: int64"
      ]
     },
     "execution_count": 14,
     "metadata": {},
     "output_type": "execute_result"
    }
   ],
   "source": [
    "# registros por categorái de vehiculos\n",
    "fraudes.vehiclecategory.value_counts()"
   ]
  },
  {
   "cell_type": "code",
   "execution_count": 15,
   "id": "6de21cca",
   "metadata": {
    "scrolled": true
   },
   "outputs": [
    {
     "data": {
      "text/html": [
       "<div>\n",
       "<style scoped>\n",
       "    .dataframe tbody tr th:only-of-type {\n",
       "        vertical-align: middle;\n",
       "    }\n",
       "\n",
       "    .dataframe tbody tr th {\n",
       "        vertical-align: top;\n",
       "    }\n",
       "\n",
       "    .dataframe thead th {\n",
       "        text-align: right;\n",
       "    }\n",
       "</style>\n",
       "<table border=\"1\" class=\"dataframe\">\n",
       "  <thead>\n",
       "    <tr style=\"text-align: right;\">\n",
       "      <th>vehiclecategory</th>\n",
       "      <th>Sedan</th>\n",
       "      <th>Sport</th>\n",
       "      <th>Utility</th>\n",
       "    </tr>\n",
       "    <tr>\n",
       "      <th>fraudfound_p</th>\n",
       "      <th></th>\n",
       "      <th></th>\n",
       "      <th></th>\n",
       "    </tr>\n",
       "  </thead>\n",
       "  <tbody>\n",
       "    <tr>\n",
       "      <th>0</th>\n",
       "      <td>8876</td>\n",
       "      <td>5274</td>\n",
       "      <td>347</td>\n",
       "    </tr>\n",
       "    <tr>\n",
       "      <th>1</th>\n",
       "      <td>795</td>\n",
       "      <td>84</td>\n",
       "      <td>44</td>\n",
       "    </tr>\n",
       "  </tbody>\n",
       "</table>\n",
       "</div>"
      ],
      "text/plain": [
       "vehiclecategory  Sedan  Sport  Utility\n",
       "fraudfound_p                          \n",
       "0                 8876   5274      347\n",
       "1                  795     84       44"
      ]
     },
     "execution_count": 15,
     "metadata": {},
     "output_type": "execute_result"
    }
   ],
   "source": [
    "## resgistros fraudulentos por categoría de vehiculo\n",
    "pd.crosstab(fraudes.fraudfound_p,fraudes.vehiclecategory)"
   ]
  },
  {
   "cell_type": "code",
   "execution_count": 16,
   "id": "7ea44a11",
   "metadata": {
    "scrolled": true
   },
   "outputs": [
    {
     "data": {
      "text/plain": [
       "Collision     5962\n",
       "Liability     5009\n",
       "All Perils    4449\n",
       "Name: basepolicy, dtype: int64"
      ]
     },
     "execution_count": 16,
     "metadata": {},
     "output_type": "execute_result"
    }
   ],
   "source": [
    "fraudes.basepolicy.value_counts()"
   ]
  },
  {
   "cell_type": "code",
   "execution_count": 17,
   "id": "aef1d9b9",
   "metadata": {
    "scrolled": true
   },
   "outputs": [
    {
     "data": {
      "text/html": [
       "<div>\n",
       "<style scoped>\n",
       "    .dataframe tbody tr th:only-of-type {\n",
       "        vertical-align: middle;\n",
       "    }\n",
       "\n",
       "    .dataframe tbody tr th {\n",
       "        vertical-align: top;\n",
       "    }\n",
       "\n",
       "    .dataframe thead th {\n",
       "        text-align: right;\n",
       "    }\n",
       "</style>\n",
       "<table border=\"1\" class=\"dataframe\">\n",
       "  <thead>\n",
       "    <tr style=\"text-align: right;\">\n",
       "      <th>basepolicy</th>\n",
       "      <th>All Perils</th>\n",
       "      <th>Collision</th>\n",
       "      <th>Liability</th>\n",
       "    </tr>\n",
       "    <tr>\n",
       "      <th>fraudfound_p</th>\n",
       "      <th></th>\n",
       "      <th></th>\n",
       "      <th></th>\n",
       "    </tr>\n",
       "  </thead>\n",
       "  <tbody>\n",
       "    <tr>\n",
       "      <th>0</th>\n",
       "      <td>3997</td>\n",
       "      <td>5527</td>\n",
       "      <td>4973</td>\n",
       "    </tr>\n",
       "    <tr>\n",
       "      <th>1</th>\n",
       "      <td>452</td>\n",
       "      <td>435</td>\n",
       "      <td>36</td>\n",
       "    </tr>\n",
       "  </tbody>\n",
       "</table>\n",
       "</div>"
      ],
      "text/plain": [
       "basepolicy    All Perils  Collision  Liability\n",
       "fraudfound_p                                  \n",
       "0                   3997       5527       4973\n",
       "1                    452        435         36"
      ]
     },
     "execution_count": 17,
     "metadata": {},
     "output_type": "execute_result"
    }
   ],
   "source": [
    "pd.crosstab(fraudes.fraudfound_p,fraudes.basepolicy )"
   ]
  },
  {
   "cell_type": "code",
   "execution_count": 18,
   "id": "070628a6",
   "metadata": {},
   "outputs": [
    {
     "data": {
      "text/html": [
       "<div>\n",
       "<style scoped>\n",
       "    .dataframe tbody tr th:only-of-type {\n",
       "        vertical-align: middle;\n",
       "    }\n",
       "\n",
       "    .dataframe tbody tr th {\n",
       "        vertical-align: top;\n",
       "    }\n",
       "\n",
       "    .dataframe thead th {\n",
       "        text-align: right;\n",
       "    }\n",
       "</style>\n",
       "<table border=\"1\" class=\"dataframe\">\n",
       "  <thead>\n",
       "    <tr style=\"text-align: right;\">\n",
       "      <th>maritalstatus</th>\n",
       "      <th>Divorced</th>\n",
       "      <th>Married</th>\n",
       "      <th>Single</th>\n",
       "      <th>Widow</th>\n",
       "    </tr>\n",
       "    <tr>\n",
       "      <th>fraudfound_p</th>\n",
       "      <th></th>\n",
       "      <th></th>\n",
       "      <th></th>\n",
       "      <th></th>\n",
       "    </tr>\n",
       "  </thead>\n",
       "  <tbody>\n",
       "    <tr>\n",
       "      <th>0</th>\n",
       "      <td>73</td>\n",
       "      <td>9986</td>\n",
       "      <td>4406</td>\n",
       "      <td>32</td>\n",
       "    </tr>\n",
       "    <tr>\n",
       "      <th>1</th>\n",
       "      <td>3</td>\n",
       "      <td>639</td>\n",
       "      <td>278</td>\n",
       "      <td>3</td>\n",
       "    </tr>\n",
       "  </tbody>\n",
       "</table>\n",
       "</div>"
      ],
      "text/plain": [
       "maritalstatus  Divorced  Married  Single  Widow\n",
       "fraudfound_p                                   \n",
       "0                    73     9986    4406     32\n",
       "1                     3      639     278      3"
      ]
     },
     "execution_count": 18,
     "metadata": {},
     "output_type": "execute_result"
    }
   ],
   "source": [
    "## resgistros fraudulentos por sexo\n",
    "pd.crosstab(fraudes.fraudfound_p,fraudes.maritalstatus )"
   ]
  },
  {
   "cell_type": "code",
   "execution_count": 19,
   "id": "23765b67",
   "metadata": {},
   "outputs": [
    {
     "data": {
      "text/plain": [
       "array(['none', '1', '2 to 4', 'more than 4'], dtype=object)"
      ]
     },
     "execution_count": 19,
     "metadata": {},
     "output_type": "execute_result"
    }
   ],
   "source": [
    "fraudes.pastnumberofclaims.unique()"
   ]
  },
  {
   "cell_type": "code",
   "execution_count": 20,
   "id": "1fe1bf70",
   "metadata": {},
   "outputs": [
    {
     "data": {
      "text/plain": [
       "array(['more than 30', '15 to 30', 'none', '1 to 7', '8 to 15'],\n",
       "      dtype=object)"
      ]
     },
     "execution_count": 20,
     "metadata": {},
     "output_type": "execute_result"
    }
   ],
   "source": [
    "fraudes.days_policy_accident.unique()"
   ]
  },
  {
   "cell_type": "code",
   "execution_count": 21,
   "id": "d1b97d05",
   "metadata": {
    "scrolled": true
   },
   "outputs": [
    {
     "data": {
      "text/plain": [
       "array([300, 400, 500, 700], dtype=int64)"
      ]
     },
     "execution_count": 21,
     "metadata": {},
     "output_type": "execute_result"
    }
   ],
   "source": [
    "fraudes.deductible.unique()"
   ]
  },
  {
   "cell_type": "code",
   "execution_count": 22,
   "id": "671cd489",
   "metadata": {
    "scrolled": true
   },
   "outputs": [
    {
     "data": {
      "text/plain": [
       "array(['more than 69000', '20000 to 29000', '30000 to 39000',\n",
       "       'less than 20000', '40000 to 59000', '60000 to 69000'],\n",
       "      dtype=object)"
      ]
     },
     "execution_count": 22,
     "metadata": {},
     "output_type": "execute_result"
    }
   ],
   "source": [
    "# valores de precio del vehiculo\n",
    "fraudes.vehicleprice.unique()"
   ]
  },
  {
   "cell_type": "code",
   "execution_count": 23,
   "id": "61628390",
   "metadata": {
    "scrolled": true
   },
   "outputs": [
    {
     "data": {
      "text/html": [
       "<div>\n",
       "<style scoped>\n",
       "    .dataframe tbody tr th:only-of-type {\n",
       "        vertical-align: middle;\n",
       "    }\n",
       "\n",
       "    .dataframe tbody tr th {\n",
       "        vertical-align: top;\n",
       "    }\n",
       "\n",
       "    .dataframe thead th {\n",
       "        text-align: right;\n",
       "    }\n",
       "</style>\n",
       "<table border=\"1\" class=\"dataframe\">\n",
       "  <thead>\n",
       "    <tr style=\"text-align: right;\">\n",
       "      <th>vehicleprice</th>\n",
       "      <th>20000 to 29000</th>\n",
       "      <th>30000 to 39000</th>\n",
       "      <th>40000 to 59000</th>\n",
       "      <th>60000 to 69000</th>\n",
       "      <th>less than 20000</th>\n",
       "      <th>more than 69000</th>\n",
       "    </tr>\n",
       "    <tr>\n",
       "      <th>fraudfound_p</th>\n",
       "      <th></th>\n",
       "      <th></th>\n",
       "      <th></th>\n",
       "      <th></th>\n",
       "      <th></th>\n",
       "      <th></th>\n",
       "    </tr>\n",
       "  </thead>\n",
       "  <tbody>\n",
       "    <tr>\n",
       "      <th>0</th>\n",
       "      <td>7658</td>\n",
       "      <td>3358</td>\n",
       "      <td>430</td>\n",
       "      <td>83</td>\n",
       "      <td>993</td>\n",
       "      <td>1975</td>\n",
       "    </tr>\n",
       "    <tr>\n",
       "      <th>1</th>\n",
       "      <td>421</td>\n",
       "      <td>175</td>\n",
       "      <td>31</td>\n",
       "      <td>4</td>\n",
       "      <td>103</td>\n",
       "      <td>189</td>\n",
       "    </tr>\n",
       "  </tbody>\n",
       "</table>\n",
       "</div>"
      ],
      "text/plain": [
       "vehicleprice  20000 to 29000  30000 to 39000  40000 to 59000  60000 to 69000  \\\n",
       "fraudfound_p                                                                   \n",
       "0                       7658            3358             430              83   \n",
       "1                        421             175              31               4   \n",
       "\n",
       "vehicleprice  less than 20000  more than 69000  \n",
       "fraudfound_p                                    \n",
       "0                         993             1975  \n",
       "1                         103              189  "
      ]
     },
     "execution_count": 23,
     "metadata": {},
     "output_type": "execute_result"
    }
   ],
   "source": [
    "## resgistros fraudulentos por precio del vehiculo\n",
    "pd.crosstab(fraudes.fraudfound_p,fraudes.vehicleprice )"
   ]
  },
  {
   "cell_type": "code",
   "execution_count": 24,
   "id": "f46561ce",
   "metadata": {
    "scrolled": true
   },
   "outputs": [
    {
     "data": {
      "text/plain": [
       "count    15420.000000\n",
       "mean        39.855707\n",
       "std         13.492377\n",
       "min          0.000000\n",
       "25%         31.000000\n",
       "50%         38.000000\n",
       "75%         48.000000\n",
       "max         80.000000\n",
       "Name: age, dtype: float64"
      ]
     },
     "execution_count": 24,
     "metadata": {},
     "output_type": "execute_result"
    }
   ],
   "source": [
    "fraudes.age.describe()"
   ]
  },
  {
   "cell_type": "code",
   "execution_count": 25,
   "id": "0c9cb10d",
   "metadata": {},
   "outputs": [],
   "source": [
    "def edad (x):\n",
    "    \n",
    "    if x >= 48:\n",
    "     return 3\n",
    "    \n",
    "    elif  28<= x <=48: \n",
    "       return 2\n",
    "    \n",
    "    else: \n",
    "     return 1    \n",
    "\n",
    "fraudes['rango_edad']= fraudes['age'].apply(edad)"
   ]
  },
  {
   "cell_type": "code",
   "execution_count": 26,
   "id": "e74760ff",
   "metadata": {
    "scrolled": true
   },
   "outputs": [
    {
     "data": {
      "text/plain": [
       "2    9165\n",
       "3    4124\n",
       "1    2131\n",
       "Name: rango_edad, dtype: int64"
      ]
     },
     "execution_count": 26,
     "metadata": {},
     "output_type": "execute_result"
    }
   ],
   "source": [
    "fraudes.rango_edad.value_counts()"
   ]
  },
  {
   "cell_type": "code",
   "execution_count": 27,
   "id": "dfec7a12",
   "metadata": {},
   "outputs": [
    {
     "data": {
      "text/html": [
       "<div>\n",
       "<style scoped>\n",
       "    .dataframe tbody tr th:only-of-type {\n",
       "        vertical-align: middle;\n",
       "    }\n",
       "\n",
       "    .dataframe tbody tr th {\n",
       "        vertical-align: top;\n",
       "    }\n",
       "\n",
       "    .dataframe thead th {\n",
       "        text-align: right;\n",
       "    }\n",
       "</style>\n",
       "<table border=\"1\" class=\"dataframe\">\n",
       "  <thead>\n",
       "    <tr style=\"text-align: right;\">\n",
       "      <th>rango_edad</th>\n",
       "      <th>1</th>\n",
       "      <th>2</th>\n",
       "      <th>3</th>\n",
       "    </tr>\n",
       "    <tr>\n",
       "      <th>fraudfound_p</th>\n",
       "      <th></th>\n",
       "      <th></th>\n",
       "      <th></th>\n",
       "    </tr>\n",
       "  </thead>\n",
       "  <tbody>\n",
       "    <tr>\n",
       "      <th>0</th>\n",
       "      <td>1985</td>\n",
       "      <td>8597</td>\n",
       "      <td>3915</td>\n",
       "    </tr>\n",
       "    <tr>\n",
       "      <th>1</th>\n",
       "      <td>146</td>\n",
       "      <td>568</td>\n",
       "      <td>209</td>\n",
       "    </tr>\n",
       "  </tbody>\n",
       "</table>\n",
       "</div>"
      ],
      "text/plain": [
       "rango_edad       1     2     3\n",
       "fraudfound_p                  \n",
       "0             1985  8597  3915\n",
       "1              146   568   209"
      ]
     },
     "execution_count": 27,
     "metadata": {},
     "output_type": "execute_result"
    }
   ],
   "source": [
    "## resgistros fraudulentos por rango de edad\n",
    "pd.crosstab(fraudes.fraudfound_p,fraudes.rango_edad)"
   ]
  },
  {
   "cell_type": "code",
   "execution_count": 28,
   "id": "a8b87014",
   "metadata": {},
   "outputs": [
    {
     "data": {
      "text/html": [
       "<div>\n",
       "<style scoped>\n",
       "    .dataframe tbody tr th:only-of-type {\n",
       "        vertical-align: middle;\n",
       "    }\n",
       "\n",
       "    .dataframe tbody tr th {\n",
       "        vertical-align: top;\n",
       "    }\n",
       "\n",
       "    .dataframe thead th {\n",
       "        text-align: right;\n",
       "    }\n",
       "</style>\n",
       "<table border=\"1\" class=\"dataframe\">\n",
       "  <thead>\n",
       "    <tr style=\"text-align: right;\">\n",
       "      <th>deductible</th>\n",
       "      <th>300</th>\n",
       "      <th>400</th>\n",
       "      <th>500</th>\n",
       "      <th>700</th>\n",
       "    </tr>\n",
       "    <tr>\n",
       "      <th>fraudfound_p</th>\n",
       "      <th></th>\n",
       "      <th></th>\n",
       "      <th></th>\n",
       "      <th></th>\n",
       "    </tr>\n",
       "  </thead>\n",
       "  <tbody>\n",
       "    <tr>\n",
       "      <th>0</th>\n",
       "      <td>6</td>\n",
       "      <td>13982</td>\n",
       "      <td>216</td>\n",
       "      <td>293</td>\n",
       "    </tr>\n",
       "    <tr>\n",
       "      <th>1</th>\n",
       "      <td>2</td>\n",
       "      <td>856</td>\n",
       "      <td>47</td>\n",
       "      <td>18</td>\n",
       "    </tr>\n",
       "  </tbody>\n",
       "</table>\n",
       "</div>"
      ],
      "text/plain": [
       "deductible    300    400  500  700\n",
       "fraudfound_p                      \n",
       "0               6  13982  216  293\n",
       "1               2    856   47   18"
      ]
     },
     "execution_count": 28,
     "metadata": {},
     "output_type": "execute_result"
    }
   ],
   "source": [
    "pd.crosstab(fraudes.fraudfound_p,fraudes.deductible)"
   ]
  },
  {
   "cell_type": "code",
   "execution_count": 29,
   "id": "21d124bf",
   "metadata": {},
   "outputs": [],
   "source": [
    "## analizar las variables con varias categorías\n",
    "\n",
    "fraudes = fraudes.astype({\"vehicleprice\":'category', \"deductible\":'category', 'days_policy_accident':'category', \n",
    "                         \"pastnumberofclaims\":'category', 'rango_edad':'category', 'basepolicy': 'category'})"
   ]
  },
  {
   "cell_type": "code",
   "execution_count": 30,
   "id": "bfb49872",
   "metadata": {},
   "outputs": [],
   "source": [
    "### codificación dummie\n",
    "df_prueba= fraudes[[\"vehicleprice\",\"deductible\",'days_policy_accident','pastnumberofclaims', 'rango_edad', 'fraudfound_p', 'basepolicy']]\n",
    "\n",
    "## codificación dummy al conjunto de variables\n",
    "dumm_categories = pd.get_dummies(df_prueba)"
   ]
  },
  {
   "cell_type": "code",
   "execution_count": 31,
   "id": "5bdec7a2",
   "metadata": {
    "scrolled": false
   },
   "outputs": [
    {
     "data": {
      "text/plain": [
       "<seaborn.matrix.ClusterGrid at 0x1f9f7629760>"
      ]
     },
     "execution_count": 31,
     "metadata": {},
     "output_type": "execute_result"
    },
    {
     "data": {
      "image/png": "[encoded data removed]",
      "text/plain": [
       "<Figure size 720x720 with 4 Axes>"
      ]
     },
     "metadata": {
      "needs_background": "light"
     },
     "output_type": "display_data"
    }
   ],
   "source": [
    "import seaborn as sns\n",
    "sns.clustermap(dumm_categories.corr())"
   ]
  },
  {
   "cell_type": "code",
   "execution_count": 32,
   "id": "94ec42b1",
   "metadata": {
    "scrolled": false
   },
   "outputs": [
    {
     "data": {
      "text/html": [
       "<div>\n",
       "<style scoped>\n",
       "    .dataframe tbody tr th:only-of-type {\n",
       "        vertical-align: middle;\n",
       "    }\n",
       "\n",
       "    .dataframe tbody tr th {\n",
       "        vertical-align: top;\n",
       "    }\n",
       "\n",
       "    .dataframe thead th {\n",
       "        text-align: right;\n",
       "    }\n",
       "</style>\n",
       "<table border=\"1\" class=\"dataframe\">\n",
       "  <thead>\n",
       "    <tr style=\"text-align: right;\">\n",
       "      <th>deductible_500</th>\n",
       "      <th>0</th>\n",
       "      <th>1</th>\n",
       "    </tr>\n",
       "    <tr>\n",
       "      <th>fraudfound_p</th>\n",
       "      <th></th>\n",
       "      <th></th>\n",
       "    </tr>\n",
       "  </thead>\n",
       "  <tbody>\n",
       "    <tr>\n",
       "      <th>0</th>\n",
       "      <td>14281</td>\n",
       "      <td>216</td>\n",
       "    </tr>\n",
       "    <tr>\n",
       "      <th>1</th>\n",
       "      <td>876</td>\n",
       "      <td>47</td>\n",
       "    </tr>\n",
       "  </tbody>\n",
       "</table>\n",
       "</div>"
      ],
      "text/plain": [
       "deductible_500      0    1\n",
       "fraudfound_p              \n",
       "0               14281  216\n",
       "1                 876   47"
      ]
     },
     "execution_count": 32,
     "metadata": {},
     "output_type": "execute_result"
    }
   ],
   "source": [
    "pd.crosstab(dumm_categories.fraudfound_p,dumm_categories.deductible_500)"
   ]
  },
  {
   "cell_type": "code",
   "execution_count": 33,
   "id": "ba44ff50",
   "metadata": {},
   "outputs": [
    {
     "data": {
      "text/html": [
       "<div>\n",
       "<style scoped>\n",
       "    .dataframe tbody tr th:only-of-type {\n",
       "        vertical-align: middle;\n",
       "    }\n",
       "\n",
       "    .dataframe tbody tr th {\n",
       "        vertical-align: top;\n",
       "    }\n",
       "\n",
       "    .dataframe thead th {\n",
       "        text-align: right;\n",
       "    }\n",
       "</style>\n",
       "<table border=\"1\" class=\"dataframe\">\n",
       "  <thead>\n",
       "    <tr style=\"text-align: right;\">\n",
       "      <th>rango_edad_1</th>\n",
       "      <th>0</th>\n",
       "      <th>1</th>\n",
       "    </tr>\n",
       "    <tr>\n",
       "      <th>fraudfound_p</th>\n",
       "      <th></th>\n",
       "      <th></th>\n",
       "    </tr>\n",
       "  </thead>\n",
       "  <tbody>\n",
       "    <tr>\n",
       "      <th>0</th>\n",
       "      <td>12512</td>\n",
       "      <td>1985</td>\n",
       "    </tr>\n",
       "    <tr>\n",
       "      <th>1</th>\n",
       "      <td>777</td>\n",
       "      <td>146</td>\n",
       "    </tr>\n",
       "  </tbody>\n",
       "</table>\n",
       "</div>"
      ],
      "text/plain": [
       "rango_edad_1      0     1\n",
       "fraudfound_p             \n",
       "0             12512  1985\n",
       "1               777   146"
      ]
     },
     "execution_count": 33,
     "metadata": {},
     "output_type": "execute_result"
    }
   ],
   "source": [
    "pd.crosstab(dumm_categories.fraudfound_p,dumm_categories.rango_edad_1)"
   ]
  },
  {
   "cell_type": "code",
   "execution_count": 34,
   "id": "c8853456",
   "metadata": {},
   "outputs": [
    {
     "name": "stdout",
     "output_type": "stream",
     "text": [
      "odd ratio is : 3.547305724674446\n",
      "p_value is : 1.140334359422983e-11\n"
     ]
    }
   ],
   "source": [
    "## se realiza una prueba fisher para revisar si existe una relación estadística entre el costo del seguro sea 500  o no\n",
    "## el p_value es menor a 0.05 por lo tanto hay suficiente información para rechazar la hipotesis nula y afirmar que existe una relación entre fraude y costo de 500 del seguro \n",
    "\n",
    "from scipy.stats import fisher_exact\n",
    "import scipy.stats as stats\n",
    "odd_ratio, p_value = stats.fisher_exact([[14281,216], [876 ,47]], alternative='two-sided')\n",
    "print('odd ratio is : ' + str(odd_ratio))\n",
    "print('p_value is : ' + str(p_value))"
   ]
  },
  {
   "cell_type": "code",
   "execution_count": 35,
   "id": "8890ffb3",
   "metadata": {},
   "outputs": [
    {
     "name": "stdout",
     "output_type": "stream",
     "text": [
      "odd ratio is : 1.1843990806207432\n",
      "p_value is : 0.07642120675583956\n"
     ]
    }
   ],
   "source": [
    "## se realiza una prueba fisher para revisar si existe una relación estadística entre el rango de edad 1 y el fraude\n",
    "## el p_value es mayor a 0.05 por lo tanto no hay suficiente información para rechazar la hipotesis nula y afirmar que existe una relación entre fraude y el rango de edad_1 \n",
    "\n",
    "from scipy.stats import fisher_exact\n",
    "import scipy.stats as stats\n",
    "odd_ratio, p_value = stats.fisher_exact([[12512, 1985], [777,146]], alternative='two-sided')\n",
    "print('odd ratio is : ' + str(odd_ratio))\n",
    "print('p_value is : ' + str(p_value))"
   ]
  },
  {
   "cell_type": "code",
   "execution_count": 36,
   "id": "874d4ee2",
   "metadata": {},
   "outputs": [
    {
     "data": {
      "text/plain": [
       "Index(['monthh', 'weekofmonth', 'dayofweek', 'make', 'accidentarea',\n",
       "       'dayofweekclaimed', 'monthclaimed', 'weekofmonthclaimed', 'sex',\n",
       "       'maritalstatus', 'age', 'fault', 'policytype', 'vehiclecategory',\n",
       "       'vehicleprice', 'fraudfound_p', 'policynumber', 'repnumber',\n",
       "       'deductible', 'driverrating', 'days_policy_accident',\n",
       "       'days_policy_claim', 'pastnumberofclaims', 'ageofvehicle',\n",
       "       'ageofpolicyholder', 'policereportfiled', 'witnesspresent', 'agenttype',\n",
       "       'numberofsuppliments', 'addresschange_claim', 'numberofcars', 'yearr',\n",
       "       'basepolicy', 'rango_edad'],\n",
       "      dtype='object')"
      ]
     },
     "execution_count": 36,
     "metadata": {},
     "output_type": "execute_result"
    }
   ],
   "source": [
    "fraudes.columns"
   ]
  },
  {
   "cell_type": "markdown",
   "id": "afe1a18d",
   "metadata": {},
   "source": [
    "### 4.1 Modelo"
   ]
  },
  {
   "cell_type": "markdown",
   "id": "cc39f0d2",
   "metadata": {},
   "source": [
    "A continuación se realiza un modelo de clasificación utilizando algunas de la variables relevantes de acuerdo al analisis exploratorio realizado. \n",
    "\n",
    "El objetivo con este modelo es identificar aquellos reportes de siniestros que por sus características tienen mayor  probabilidad de ser fraudulento o no. De esta forma se inicia seleccionando las variables de interés y convertir aquellas variables categoricas es dummies, seguido a esto se balancea  la muestra y se comienza a realizar el entreamiento del modelo. \n",
    "\n",
    "Como resultado, he logrado desarrollar un modelo con una precisión del 66,6%. El valor agregado que este tipo de modelo proporciona al negocio radica en su eficiencia para identificar posibles casos fraudulentos, lo cual ayudaría a reducir las pérdidas. Sin embargo, para mejorar el rendimiento del modelo, es importante continuar explorando otras variables que nos permitan enriquecerlo y proporcionar una mejor explicación de la ocurrencia de casos fraudulentos."
   ]
  },
  {
   "cell_type": "code",
   "execution_count": 37,
   "id": "7c7dcdae",
   "metadata": {},
   "outputs": [],
   "source": [
    "### variables a manejear: De acuerdo con el analisis anterior se eligen las siguientes variables para construir el modelo\n",
    "\n",
    "df= fraudes[[\"vehicleprice\",\"deductible\",'days_policy_accident', 'sex', 'fraudfound_p', 'basepolicy']]\n",
    "\n",
    "## conjunto de datos categoricos \n",
    "\n",
    "categories= df.select_dtypes(include=['category'])\n",
    "non_categories=  df.select_dtypes(exclude=['category'])\n",
    "\n",
    "\n",
    "## codificación dummy al conjunto de variables\n",
    "dumm_categories = pd.get_dummies(categories)\n",
    "\n",
    "# Unión de las variables numéricas con las codificadas\n",
    "df_fraude = pd.concat([non_categories, dumm_categories], axis=1)\n"
   ]
  },
  {
   "cell_type": "code",
   "execution_count": 38,
   "id": "2e5f8d90",
   "metadata": {
    "scrolled": true
   },
   "outputs": [
    {
     "data": {
      "text/plain": [
       "0        0\n",
       "1        1\n",
       "2        1\n",
       "3        1\n",
       "4        0\n",
       "        ..\n",
       "15415    1\n",
       "15416    1\n",
       "15417    1\n",
       "15418    0\n",
       "15419    1\n",
       "Name: sex, Length: 15420, dtype: int64"
      ]
     },
     "execution_count": 38,
     "metadata": {},
     "output_type": "execute_result"
    }
   ],
   "source": [
    "# recodificación de la variable sexo \n",
    "df_fraude['sex']= df_fraude['sex'].map({'Female':0, 'Male':1})\n",
    "df_fraude.sex"
   ]
  },
  {
   "cell_type": "code",
   "execution_count": 39,
   "id": "74657219",
   "metadata": {
    "scrolled": true
   },
   "outputs": [
    {
     "data": {
      "text/plain": [
       "Index(['sex', 'fraudfound_p', 'vehicleprice_20000 to 29000',\n",
       "       'vehicleprice_30000 to 39000', 'vehicleprice_40000 to 59000',\n",
       "       'vehicleprice_60000 to 69000', 'vehicleprice_less than 20000',\n",
       "       'vehicleprice_more than 69000', 'deductible_300', 'deductible_400',\n",
       "       'deductible_500', 'deductible_700', 'days_policy_accident_1 to 7',\n",
       "       'days_policy_accident_15 to 30', 'days_policy_accident_8 to 15',\n",
       "       'days_policy_accident_more than 30', 'days_policy_accident_none',\n",
       "       'basepolicy_All Perils', 'basepolicy_Collision',\n",
       "       'basepolicy_Liability'],\n",
       "      dtype='object')"
      ]
     },
     "execution_count": 39,
     "metadata": {},
     "output_type": "execute_result"
    }
   ],
   "source": [
    "## se eligen las categorías relevantes\n",
    "df_fraude.columns"
   ]
  },
  {
   "cell_type": "code",
   "execution_count": 41,
   "id": "9c7f1e96",
   "metadata": {
    "scrolled": true
   },
   "outputs": [
    {
     "name": "stdout",
     "output_type": "stream",
     "text": [
      "Requirement already satisfied: imbalanced-learn in c:\\users\\dayan\\anaconda3\\lib\\site-packages (0.11.0)\n",
      "Requirement already satisfied: joblib>=1.1.1 in c:\\users\\dayan\\anaconda3\\lib\\site-packages (from imbalanced-learn) (1.3.1)\n",
      "Requirement already satisfied: scikit-learn>=1.0.2 in c:\\users\\dayan\\anaconda3\\lib\\site-packages (from imbalanced-learn) (1.0.2)\n",
      "Requirement already satisfied: scipy>=1.5.0 in c:\\users\\dayan\\anaconda3\\lib\\site-packages (from imbalanced-learn) (1.7.3)\n",
      "Requirement already satisfied: numpy>=1.17.3 in c:\\users\\dayan\\anaconda3\\lib\\site-packages (from imbalanced-learn) (1.21.5)\n",
      "Requirement already satisfied: threadpoolctl>=2.0.0 in c:\\users\\dayan\\anaconda3\\lib\\site-packages (from imbalanced-learn) (2.2.0)\n",
      "Note: you may need to restart the kernel to use updated packages.\n"
     ]
    }
   ],
   "source": [
    "pip install imbalanced-learn"
   ]
  },
  {
   "cell_type": "code",
   "execution_count": 42,
   "id": "88be08e2",
   "metadata": {},
   "outputs": [
    {
     "name": "stdout",
     "output_type": "stream",
     "text": [
      "length of oversampled data is  28994\n",
      "Number of no subscription in oversampled data 14497\n",
      "Number of subscription 14497\n",
      "Proportion of no subscription data in oversampled data is  0.5\n",
      "Proportion of subscription data in oversampled data is  0.5\n"
     ]
    }
   ],
   "source": [
    "## se balancea la base de datos. pues de los mas de 15 mil registros, solo 900 presentan fraude\n",
    "from imblearn.over_sampling import SMOTE\n",
    "os = SMOTE(random_state=0)\n",
    "\n",
    "train= df_fraude.copy()\n",
    "test= df_fraude.copy()\n",
    "\n",
    "X_train = train.loc[:, train.columns != 'fraudfound_p']\n",
    "y_train = train.loc[:, train.columns == 'fraudfound_p']\n",
    "X_test = test.loc[:, test.columns != 'fraudfound_p']\n",
    "y_test = test.loc[:, test.columns == 'fraudfound_p']\n",
    "\n",
    "columns = X_train.columns\n",
    "os_data_X,os_data_y=os.fit_resample(X_train, y_train)\n",
    "os_data_X = pd.DataFrame(data=os_data_X,columns=columns )\n",
    "os_data_y= pd.DataFrame(data=os_data_y,columns=['fraudfound_p'])\n",
    "\n",
    "# verificación del balanceo de la base\n",
    "print(\"length of oversampled data is \",len(os_data_X))\n",
    "print(\"Number of no subscription in oversampled data\",len(os_data_y[os_data_y['fraudfound_p']==0]))\n",
    "print(\"Number of subscription\",len(os_data_y[os_data_y['fraudfound_p']==1]))\n",
    "print(\"Proportion of no subscription data in oversampled data is \",len(os_data_y[os_data_y['fraudfound_p']==0])/len(os_data_X))\n",
    "print(\"Proportion of subscription data in oversampled data is \",len(os_data_y[os_data_y['fraudfound_p']==1])/len(os_data_X))"
   ]
  },
  {
   "cell_type": "code",
   "execution_count": 44,
   "id": "862c3c3a",
   "metadata": {
    "scrolled": true
   },
   "outputs": [
    {
     "name": "stdout",
     "output_type": "stream",
     "text": [
      "    fraudfound_p  prob_default\n",
      "0              0      0.133053\n",
      "1              1      0.545561\n",
      "2              0      0.545561\n",
      "3              1      0.702912\n",
      "4              1      0.620713\n",
      "5              1      0.510319\n",
      "6              0      0.620713\n",
      "7              1      0.510319\n",
      "8              1      0.657452\n",
      "9              1      0.702912\n",
      "10             0      0.570363\n",
      "11             0      0.702912\n",
      "12             1      0.620218\n",
      "13             0      0.101383\n",
      "14             0      0.610398\n",
      "15             0      0.089201\n",
      "16             1      0.601066\n",
      "17             0      0.545561\n",
      "18             1      0.634456\n",
      "19             0      0.601066\n"
     ]
    }
   ],
   "source": [
    "import numpy as np\n",
    "from sklearn.model_selection import train_test_split\n",
    "from sklearn.linear_model import LogisticRegression\n",
    "from sklearn.multiclass import OneVsOneClassifier\n",
    "from sklearn import metrics\n",
    "\n",
    "# Conjuntos de entrenamiento y prueba\n",
    "X_train, X_test, y_train, y_test = train_test_split(X_fraud, y_fraud, test_size=.37, random_state=123)\n",
    "\n",
    "# Entrenamiento del modelo de regresión logística\n",
    "clf_logistic_fraud = LogisticRegression(multi_class=\"ovr\", solver='sag', penalty='l2', C=1.0, class_weight='balanced').fit(X_train, y_train)\n",
    "\n",
    "# Predicciones de probabilidad \n",
    "preds_fraud = clf_logistic_fraud.predict_proba(X_test)\n",
    "\n",
    "# Marcos de datos de las primeras cinco predicciones y las primeras cinco etiquetas verdaderas\n",
    "preds_df_fraud = pd.DataFrame(preds_fraud[:,1][0:20], columns = ['prob_default'])\n",
    "true_df_fraud = y_test.head(20)\n",
    "\n",
    "# Comparación de los dos marcos de datos\n",
    "print(pd.concat([true_df_fraud.reset_index(drop = True), preds_df_fraud], axis = 1))"
   ]
  },
  {
   "cell_type": "code",
   "execution_count": 45,
   "id": "317f819c",
   "metadata": {},
   "outputs": [
    {
     "name": "stdout",
     "output_type": "stream",
     "text": [
      "model score: 0.660\n"
     ]
    }
   ],
   "source": [
    "print(\"model score: %.3f\" % clf_logistic_fraud.score(X_test, y_test))"
   ]
  },
  {
   "cell_type": "code",
   "execution_count": null,
   "id": "6968c513",
   "metadata": {},
   "outputs": [],
   "source": []
  }
 ],
 "metadata": {
  "kernelspec": {
   "display_name": "Python 3 (ipykernel)",
   "language": "python",
   "name": "python3"
  },
  "language_info": {
   "codemirror_mode": {
    "name": "ipython",
    "version": 3
   },
   "file_extension": ".py",
   "mimetype": "text/x-python",
   "name": "python",
   "nbconvert_exporter": "python",
   "pygments_lexer": "ipython3",
   "version": "3.9.12"
  }
 },
 "nbformat": 4,
 "nbformat_minor": 5
}
